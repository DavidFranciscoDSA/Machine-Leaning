{
 "cells": [
  {
   "cell_type": "code",
   "execution_count": 3,
   "id": "47ec3d53",
   "metadata": {},
   "outputs": [
    {
     "name": "stdout",
     "output_type": "stream",
     "text": [
      "[0.0, 0.04918032786885246, 0.21311475409836064, 0.09836065573770492, 0.8688524590163934, 1.0]\n"
     ]
    }
   ],
   "source": [
    "def normalizacao(coluna_numerica):\n",
    "    dados_normalizados = []\n",
    "    for numero in coluna_numerica:\n",
    "        numero = (numero - min(coluna_numerica))/(max(coluna_numerica) - min(coluna_numerica))\n",
    "        dados_normalizados.append(numero)\n",
    "    return dados_normalizados\n",
    " \n",
    "idade = [2,5,15,8,55,63]\n",
    "idade_normalizada = normalizacao(idade)\n",
    "print(idade_normalizada)"
   ]
  },
  {
   "cell_type": "code",
   "execution_count": null,
   "id": "0a56d53e",
   "metadata": {},
   "outputs": [],
   "source": []
  }
 ],
 "metadata": {
  "kernelspec": {
   "display_name": "Python 3 (ipykernel)",
   "language": "python",
   "name": "python3"
  },
  "language_info": {
   "codemirror_mode": {
    "name": "ipython",
    "version": 3
   },
   "file_extension": ".py",
   "mimetype": "text/x-python",
   "name": "python",
   "nbconvert_exporter": "python",
   "pygments_lexer": "ipython3",
   "version": "3.11.3"
  }
 },
 "nbformat": 4,
 "nbformat_minor": 5
}
